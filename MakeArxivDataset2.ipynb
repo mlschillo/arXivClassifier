{
 "cells": [
  {
   "cell_type": "code",
   "execution_count": 57,
   "id": "mediterranean-blank",
   "metadata": {},
   "outputs": [],
   "source": [
    "import json\n",
    "import re\n",
    "import pandas as pd\n",
    "import numpy as np\n",
    "import dask.bag as db\n",
    "from matplotlib import pyplot as plt\n",
    "from pylab import rcParams\n",
    "from matplotlib import rc"
   ]
  },
  {
   "cell_type": "code",
   "execution_count": 4,
   "id": "vital-concern",
   "metadata": {},
   "outputs": [],
   "source": [
    "rcParams['figure.figsize'] = 10, 6\n",
    "RANDOM_SEED = 9\n",
    "np.random.seed(RANDOM_SEED)"
   ]
  },
  {
   "cell_type": "markdown",
   "id": "enormous-attempt",
   "metadata": {},
   "source": [
    "### Look at what we get from the arxiv metadata"
   ]
  },
  {
   "cell_type": "code",
   "execution_count": 5,
   "id": "adjacent-happiness",
   "metadata": {},
   "outputs": [],
   "source": [
    "info = db.read_text(\"arxiv-metadata-oai-snapshot.json\").map(json.loads)"
   ]
  },
  {
   "cell_type": "code",
   "execution_count": 6,
   "id": "shared-afternoon",
   "metadata": {},
   "outputs": [
    {
     "data": {
      "text/plain": [
       "1796911"
      ]
     },
     "execution_count": 6,
     "metadata": {},
     "output_type": "execute_result"
    }
   ],
   "source": [
    "info.count().compute()"
   ]
  },
  {
   "cell_type": "code",
   "execution_count": 7,
   "id": "everyday-bridges",
   "metadata": {},
   "outputs": [
    {
     "data": {
      "text/plain": [
       "({'id': '0704.0001',\n",
       "  'submitter': 'Pavel Nadolsky',\n",
       "  'authors': \"C. Bal\\\\'azs, E. L. Berger, P. M. Nadolsky, C.-P. Yuan\",\n",
       "  'title': 'Calculation of prompt diphoton production cross sections at Tevatron and\\n  LHC energies',\n",
       "  'comments': '37 pages, 15 figures; published version',\n",
       "  'journal-ref': 'Phys.Rev.D76:013009,2007',\n",
       "  'doi': '10.1103/PhysRevD.76.013009',\n",
       "  'report-no': 'ANL-HEP-PR-07-12',\n",
       "  'categories': 'hep-ph',\n",
       "  'license': None,\n",
       "  'abstract': '  A fully differential calculation in perturbative quantum chromodynamics is\\npresented for the production of massive photon pairs at hadron colliders. All\\nnext-to-leading order perturbative contributions from quark-antiquark,\\ngluon-(anti)quark, and gluon-gluon subprocesses are included, as well as\\nall-orders resummation of initial-state gluon radiation valid at\\nnext-to-next-to-leading logarithmic accuracy. The region of phase space is\\nspecified in which the calculation is most reliable. Good agreement is\\ndemonstrated with data from the Fermilab Tevatron, and predictions are made for\\nmore detailed tests with CDF and DO data. Predictions are shown for\\ndistributions of diphoton pairs produced at the energy of the Large Hadron\\nCollider (LHC). Distributions of the diphoton pairs from the decay of a Higgs\\nboson are contrasted with those produced from QCD processes at the LHC, showing\\nthat enhanced sensitivity to the signal can be obtained with judicious\\nselection of events.\\n',\n",
       "  'versions': [{'version': 'v1', 'created': 'Mon, 2 Apr 2007 19:18:42 GMT'},\n",
       "   {'version': 'v2', 'created': 'Tue, 24 Jul 2007 20:10:27 GMT'}],\n",
       "  'update_date': '2008-11-26',\n",
       "  'authors_parsed': [['Balázs', 'C.', ''],\n",
       "   ['Berger', 'E. L.', ''],\n",
       "   ['Nadolsky', 'P. M.', ''],\n",
       "   ['Yuan', 'C. -P.', '']]},)"
      ]
     },
     "execution_count": 7,
     "metadata": {},
     "output_type": "execute_result"
    }
   ],
   "source": [
    "info.take(1)"
   ]
  },
  {
   "cell_type": "markdown",
   "id": "anonymous-huntington",
   "metadata": {},
   "source": [
    "## Look at the number of submissions as a function of time"
   ]
  },
  {
   "cell_type": "code",
   "execution_count": 8,
   "id": "forward-generic",
   "metadata": {},
   "outputs": [
    {
     "data": {
      "text/plain": [
       "'Mon, 2 Apr 2007 19:18:42 GMT'"
      ]
     },
     "execution_count": 8,
     "metadata": {},
     "output_type": "execute_result"
    }
   ],
   "source": [
    "first_v = lambda x: x['versions'][0]['created']\n",
    "first_v(info.take(1)[0])"
   ]
  },
  {
   "cell_type": "code",
   "execution_count": 9,
   "id": "north-sword",
   "metadata": {},
   "outputs": [],
   "source": [
    "dates_freq = info.map(first_v).frequencies(sort=True)"
   ]
  },
  {
   "cell_type": "code",
   "execution_count": 10,
   "id": "subtle-aurora",
   "metadata": {},
   "outputs": [
    {
     "data": {
      "text/plain": [
       "[('Wed, 27 Jun 2012 19:59:59 GMT', 109),\n",
       " ('Tue, 14 Feb 2012 16:41:17 GMT', 83),\n",
       " ('Thu, 15 Mar 2012 11:17:56 GMT', 78),\n",
       " ('Sun, 1 Dec 2002 00:00:00 GMT', 33),\n",
       " ('Wed, 1 Apr 1992 00:00:00 GMT', 22),\n",
       " ('Wed, 8 Apr 1992 22:58:34 GMT', 18),\n",
       " ('Thu, 9 Feb 1995 00:00:00 GMT', 18),\n",
       " ('Thu, 1 Jul 1999 00:00:00 GMT', 17),\n",
       " ('Wed, 1 Jan 1992 00:00:00 GMT', 17),\n",
       " ('Fri, 9 Jul 1993 00:00:00 GMT', 17)]"
      ]
     },
     "execution_count": 10,
     "metadata": {},
     "output_type": "execute_result"
    }
   ],
   "source": [
    "dates_freq.topk(10, key=1).compute()"
   ]
  },
  {
   "cell_type": "code",
   "execution_count": 11,
   "id": "hundred-mustang",
   "metadata": {},
   "outputs": [],
   "source": [
    "dates_df = dates_freq.to_dataframe(columns = ['sub_datetime', 'sub']).compute()"
   ]
  },
  {
   "cell_type": "code",
   "execution_count": 12,
   "id": "figured-wheel",
   "metadata": {},
   "outputs": [],
   "source": [
    "date_format = '%a, %d %b %Y %H:%M:%S %Z'\n",
    "dates_df['sub_datetime'] = pd.to_datetime(dates_df.sub_datetime, format = date_format)"
   ]
  },
  {
   "cell_type": "code",
   "execution_count": 13,
   "id": "maritime-bones",
   "metadata": {},
   "outputs": [],
   "source": [
    "dates_df['sub_date'] = dates_df.sub_datetime.dt.date"
   ]
  },
  {
   "cell_type": "code",
   "execution_count": 14,
   "id": "incident-indiana",
   "metadata": {},
   "outputs": [
    {
     "data": {
      "text/html": [
       "<div>\n",
       "<style scoped>\n",
       "    .dataframe tbody tr th:only-of-type {\n",
       "        vertical-align: middle;\n",
       "    }\n",
       "\n",
       "    .dataframe tbody tr th {\n",
       "        vertical-align: top;\n",
       "    }\n",
       "\n",
       "    .dataframe thead th {\n",
       "        text-align: right;\n",
       "    }\n",
       "</style>\n",
       "<table border=\"1\" class=\"dataframe\">\n",
       "  <thead>\n",
       "    <tr style=\"text-align: right;\">\n",
       "      <th></th>\n",
       "      <th>sub_datetime</th>\n",
       "      <th>sub</th>\n",
       "      <th>sub_date</th>\n",
       "      <th>sub_year</th>\n",
       "    </tr>\n",
       "  </thead>\n",
       "  <tbody>\n",
       "    <tr>\n",
       "      <th>0</th>\n",
       "      <td>2012-06-27 19:59:59+00:00</td>\n",
       "      <td>109</td>\n",
       "      <td>2012-06-27</td>\n",
       "      <td>2012</td>\n",
       "    </tr>\n",
       "    <tr>\n",
       "      <th>1</th>\n",
       "      <td>2012-02-14 16:41:17+00:00</td>\n",
       "      <td>83</td>\n",
       "      <td>2012-02-14</td>\n",
       "      <td>2012</td>\n",
       "    </tr>\n",
       "    <tr>\n",
       "      <th>2</th>\n",
       "      <td>2012-03-15 11:17:56+00:00</td>\n",
       "      <td>78</td>\n",
       "      <td>2012-03-15</td>\n",
       "      <td>2012</td>\n",
       "    </tr>\n",
       "    <tr>\n",
       "      <th>3</th>\n",
       "      <td>2002-12-01 00:00:00+00:00</td>\n",
       "      <td>33</td>\n",
       "      <td>2002-12-01</td>\n",
       "      <td>2002</td>\n",
       "    </tr>\n",
       "    <tr>\n",
       "      <th>4</th>\n",
       "      <td>1992-04-01 00:00:00+00:00</td>\n",
       "      <td>22</td>\n",
       "      <td>1992-04-01</td>\n",
       "      <td>1992</td>\n",
       "    </tr>\n",
       "  </tbody>\n",
       "</table>\n",
       "</div>"
      ],
      "text/plain": [
       "               sub_datetime  sub    sub_date  sub_year\n",
       "0 2012-06-27 19:59:59+00:00  109  2012-06-27      2012\n",
       "1 2012-02-14 16:41:17+00:00   83  2012-02-14      2012\n",
       "2 2012-03-15 11:17:56+00:00   78  2012-03-15      2012\n",
       "3 2002-12-01 00:00:00+00:00   33  2002-12-01      2002\n",
       "4 1992-04-01 00:00:00+00:00   22  1992-04-01      1992"
      ]
     },
     "execution_count": 14,
     "metadata": {},
     "output_type": "execute_result"
    }
   ],
   "source": [
    "dates_df['sub_year'] = dates_df.sub_datetime.dt.year\n",
    "dates_df.head()"
   ]
  },
  {
   "cell_type": "code",
   "execution_count": 15,
   "id": "personal-complex",
   "metadata": {},
   "outputs": [],
   "source": [
    "dates2 = dates_df.groupby('sub_date').sum().reset_index()\n",
    "dates3 = dates_df.groupby('sub_year').sum().reset_index()"
   ]
  },
  {
   "cell_type": "code",
   "execution_count": 16,
   "id": "technical-reward",
   "metadata": {},
   "outputs": [
    {
     "data": {
      "text/html": [
       "<div>\n",
       "<style scoped>\n",
       "    .dataframe tbody tr th:only-of-type {\n",
       "        vertical-align: middle;\n",
       "    }\n",
       "\n",
       "    .dataframe tbody tr th {\n",
       "        vertical-align: top;\n",
       "    }\n",
       "\n",
       "    .dataframe thead th {\n",
       "        text-align: right;\n",
       "    }\n",
       "</style>\n",
       "<table border=\"1\" class=\"dataframe\">\n",
       "  <thead>\n",
       "    <tr style=\"text-align: right;\">\n",
       "      <th></th>\n",
       "      <th>sub_date</th>\n",
       "      <th>sub</th>\n",
       "      <th>sub_year</th>\n",
       "    </tr>\n",
       "  </thead>\n",
       "  <tbody>\n",
       "    <tr>\n",
       "      <th>0</th>\n",
       "      <td>1986-04-25</td>\n",
       "      <td>1</td>\n",
       "      <td>1986</td>\n",
       "    </tr>\n",
       "    <tr>\n",
       "      <th>1</th>\n",
       "      <td>1988-11-11</td>\n",
       "      <td>1</td>\n",
       "      <td>1988</td>\n",
       "    </tr>\n",
       "    <tr>\n",
       "      <th>2</th>\n",
       "      <td>1989-04-15</td>\n",
       "      <td>1</td>\n",
       "      <td>1989</td>\n",
       "    </tr>\n",
       "    <tr>\n",
       "      <th>3</th>\n",
       "      <td>1989-10-26</td>\n",
       "      <td>3</td>\n",
       "      <td>1989</td>\n",
       "    </tr>\n",
       "    <tr>\n",
       "      <th>4</th>\n",
       "      <td>1989-11-09</td>\n",
       "      <td>1</td>\n",
       "      <td>1989</td>\n",
       "    </tr>\n",
       "  </tbody>\n",
       "</table>\n",
       "</div>"
      ],
      "text/plain": [
       "     sub_date  sub  sub_year\n",
       "0  1986-04-25    1      1986\n",
       "1  1988-11-11    1      1988\n",
       "2  1989-04-15    1      1989\n",
       "3  1989-10-26    3      1989\n",
       "4  1989-11-09    1      1989"
      ]
     },
     "execution_count": 16,
     "metadata": {},
     "output_type": "execute_result"
    }
   ],
   "source": [
    "dates2.head()"
   ]
  },
  {
   "cell_type": "code",
   "execution_count": 17,
   "id": "measured-national",
   "metadata": {},
   "outputs": [
    {
     "data": {
      "text/html": [
       "<div>\n",
       "<style scoped>\n",
       "    .dataframe tbody tr th:only-of-type {\n",
       "        vertical-align: middle;\n",
       "    }\n",
       "\n",
       "    .dataframe tbody tr th {\n",
       "        vertical-align: top;\n",
       "    }\n",
       "\n",
       "    .dataframe thead th {\n",
       "        text-align: right;\n",
       "    }\n",
       "</style>\n",
       "<table border=\"1\" class=\"dataframe\">\n",
       "  <thead>\n",
       "    <tr style=\"text-align: right;\">\n",
       "      <th></th>\n",
       "      <th>sub_year</th>\n",
       "      <th>sub</th>\n",
       "    </tr>\n",
       "  </thead>\n",
       "  <tbody>\n",
       "    <tr>\n",
       "      <th>0</th>\n",
       "      <td>1986</td>\n",
       "      <td>1</td>\n",
       "    </tr>\n",
       "    <tr>\n",
       "      <th>1</th>\n",
       "      <td>1988</td>\n",
       "      <td>1</td>\n",
       "    </tr>\n",
       "    <tr>\n",
       "      <th>2</th>\n",
       "      <td>1989</td>\n",
       "      <td>6</td>\n",
       "    </tr>\n",
       "    <tr>\n",
       "      <th>3</th>\n",
       "      <td>1990</td>\n",
       "      <td>26</td>\n",
       "    </tr>\n",
       "    <tr>\n",
       "      <th>4</th>\n",
       "      <td>1991</td>\n",
       "      <td>353</td>\n",
       "    </tr>\n",
       "  </tbody>\n",
       "</table>\n",
       "</div>"
      ],
      "text/plain": [
       "   sub_year  sub\n",
       "0      1986    1\n",
       "1      1988    1\n",
       "2      1989    6\n",
       "3      1990   26\n",
       "4      1991  353"
      ]
     },
     "execution_count": 17,
     "metadata": {},
     "output_type": "execute_result"
    }
   ],
   "source": [
    "dates3.head()"
   ]
  },
  {
   "cell_type": "code",
   "execution_count": 18,
   "id": "social-report",
   "metadata": {},
   "outputs": [],
   "source": [
    "%matplotlib inline"
   ]
  },
  {
   "cell_type": "code",
   "execution_count": 19,
   "id": "thrown-mileage",
   "metadata": {},
   "outputs": [
    {
     "data": {
      "image/png": "[encoded data removed]",
      "text/plain": [
       "<Figure size 432x288 with 2 Axes>"
      ]
     },
     "metadata": {
      "needs_background": "light"
     },
     "output_type": "display_data"
    }
   ],
   "source": [
    "fig, ax = plt.subplots(2)\n",
    "ax[0].bar(dates2['sub_date'], dates2['sub'])\n",
    "ax[1].bar(dates3['sub_year'], dates3['sub'])\n",
    "plt.show()"
   ]
  },
  {
   "cell_type": "markdown",
   "id": "obvious-stack",
   "metadata": {},
   "source": [
    "## Keep papers from two 3-year timespans separated 10 years apart: [2008, 2009, 2010, 2018, 2019, 2020]. (also keep my papers)"
   ]
  },
  {
   "cell_type": "code",
   "execution_count": 20,
   "id": "chicken-summer",
   "metadata": {},
   "outputs": [],
   "source": [
    "trim = lambda x: {'id': x['id'],\n",
    "                  'category': x['categories'].split(' '),\n",
    "                 'abstract': x['abstract']}"
   ]
  },
  {
   "cell_type": "code",
   "execution_count": 21,
   "id": "official-gothic",
   "metadata": {},
   "outputs": [],
   "source": [
    "info_spans = info.filter(lambda x: int(first_v(x).split(' ')[3]) in [2008, 2009, 2010, 2018, 2019, 2020]).map(trim).compute()"
   ]
  },
  {
   "cell_type": "code",
   "execution_count": 22,
   "id": "treated-award",
   "metadata": {},
   "outputs": [],
   "source": [
    "info_me = info.filter(lambda x: ['Schillo', 'Marjorie', ''] in x['authors_parsed']).map(trim).compute()"
   ]
  },
  {
   "cell_type": "code",
   "execution_count": 23,
   "id": "endangered-supply",
   "metadata": {},
   "outputs": [],
   "source": [
    "subs = pd.DataFrame(info_spans)\n",
    "subs_me = pd.DataFrame(info_me)\n",
    "\n",
    "subs['year'] = subs.id.apply(lambda x: x[:2])\n",
    "subs_me['year'] = subs_me.id.apply(lambda x: x[:2])"
   ]
  },
  {
   "cell_type": "code",
   "execution_count": 24,
   "id": "animal-sweden",
   "metadata": {},
   "outputs": [
    {
     "name": "stdout",
     "output_type": "stream",
     "text": [
      "646426 papers for 2008, 2009, 2010, 2018, 2019, 2020\n",
      "13 papers for me\n"
     ]
    }
   ],
   "source": [
    "print(f'{subs.shape[0]} papers for 2008, 2009, 2010, 2018, 2019, 2020')\n",
    "print(f'{subs_me.shape[0]} papers for me')"
   ]
  },
  {
   "cell_type": "markdown",
   "id": "wooden-bracelet",
   "metadata": {},
   "source": [
    "#### only look at general category containing all sub-categories"
   ]
  },
  {
   "cell_type": "code",
   "execution_count": 25,
   "id": "harmful-apple",
   "metadata": {},
   "outputs": [],
   "source": [
    "subs['category'] = subs.category.apply(lambda x: [a.split('.')[0] for a in x])\n",
    "subs_me['category'] = subs_me.category.apply(lambda x: [a.split('.')[0] for a in x])\n",
    "subs['category'] = subs.category.apply(lambda x: list(dict.fromkeys(x)))\n",
    "subs_me['category'] = subs_me.category.apply(lambda x: list(dict.fromkeys(x)))"
   ]
  },
  {
   "cell_type": "markdown",
   "id": "split-copying",
   "metadata": {},
   "source": [
    "## separate categories into submission category and cross-lists"
   ]
  },
  {
   "cell_type": "code",
   "execution_count": 26,
   "id": "regulation-petroleum",
   "metadata": {},
   "outputs": [],
   "source": [
    "subs['cross_lists']=subs.category.apply(lambda x: x[1:])\n",
    "subs['category']=subs.category.apply(lambda x: x[0])\n",
    "\n",
    "subs_me['cross_lists']=subs_me.category.apply(lambda x: x[1:])\n",
    "subs_me['category']=subs_me.category.apply(lambda x: x[0])"
   ]
  },
  {
   "cell_type": "code",
   "execution_count": 27,
   "id": "configured-account",
   "metadata": {},
   "outputs": [
    {
     "name": "stdout",
     "output_type": "stream",
     "text": [
      "646426 papers for 6 years , 13 papers for me\n"
     ]
    }
   ],
   "source": [
    "print(f'{subs.shape[0]} papers for 6 years , {subs_me.shape[0]} papers for me')"
   ]
  },
  {
   "cell_type": "code",
   "execution_count": 28,
   "id": "protecting-merchandise",
   "metadata": {},
   "outputs": [
    {
     "data": {
      "text/html": [
       "<div>\n",
       "<style scoped>\n",
       "    .dataframe tbody tr th:only-of-type {\n",
       "        vertical-align: middle;\n",
       "    }\n",
       "\n",
       "    .dataframe tbody tr th {\n",
       "        vertical-align: top;\n",
       "    }\n",
       "\n",
       "    .dataframe thead th {\n",
       "        text-align: right;\n",
       "    }\n",
       "</style>\n",
       "<table border=\"1\" class=\"dataframe\">\n",
       "  <thead>\n",
       "    <tr style=\"text-align: right;\">\n",
       "      <th></th>\n",
       "      <th>category</th>\n",
       "      <th>cross_lists</th>\n",
       "      <th>year</th>\n",
       "    </tr>\n",
       "  </thead>\n",
       "  <tbody>\n",
       "    <tr>\n",
       "      <th>0</th>\n",
       "      <td>astro-ph</td>\n",
       "      <td>[gr-qc, hep-th]</td>\n",
       "      <td>12</td>\n",
       "    </tr>\n",
       "    <tr>\n",
       "      <th>1</th>\n",
       "      <td>hep-th</td>\n",
       "      <td>[astro-ph, gr-qc]</td>\n",
       "      <td>12</td>\n",
       "    </tr>\n",
       "    <tr>\n",
       "      <th>2</th>\n",
       "      <td>hep-th</td>\n",
       "      <td>[astro-ph, gr-qc]</td>\n",
       "      <td>12</td>\n",
       "    </tr>\n",
       "    <tr>\n",
       "      <th>3</th>\n",
       "      <td>astro-ph</td>\n",
       "      <td>[hep-th]</td>\n",
       "      <td>13</td>\n",
       "    </tr>\n",
       "    <tr>\n",
       "      <th>4</th>\n",
       "      <td>hep-th</td>\n",
       "      <td>[astro-ph]</td>\n",
       "      <td>14</td>\n",
       "    </tr>\n",
       "    <tr>\n",
       "      <th>5</th>\n",
       "      <td>hep-th</td>\n",
       "      <td>[gr-qc, hep-ph]</td>\n",
       "      <td>15</td>\n",
       "    </tr>\n",
       "    <tr>\n",
       "      <th>6</th>\n",
       "      <td>hep-th</td>\n",
       "      <td>[gr-qc]</td>\n",
       "      <td>15</td>\n",
       "    </tr>\n",
       "    <tr>\n",
       "      <th>7</th>\n",
       "      <td>hep-th</td>\n",
       "      <td>[]</td>\n",
       "      <td>16</td>\n",
       "    </tr>\n",
       "    <tr>\n",
       "      <th>8</th>\n",
       "      <td>hep-th</td>\n",
       "      <td>[]</td>\n",
       "      <td>17</td>\n",
       "    </tr>\n",
       "    <tr>\n",
       "      <th>9</th>\n",
       "      <td>hep-th</td>\n",
       "      <td>[gr-qc, hep-ph]</td>\n",
       "      <td>18</td>\n",
       "    </tr>\n",
       "    <tr>\n",
       "      <th>10</th>\n",
       "      <td>hep-th</td>\n",
       "      <td>[]</td>\n",
       "      <td>19</td>\n",
       "    </tr>\n",
       "    <tr>\n",
       "      <th>11</th>\n",
       "      <td>hep-th</td>\n",
       "      <td>[gr-qc, hep-ph]</td>\n",
       "      <td>19</td>\n",
       "    </tr>\n",
       "    <tr>\n",
       "      <th>12</th>\n",
       "      <td>hep-th</td>\n",
       "      <td>[]</td>\n",
       "      <td>20</td>\n",
       "    </tr>\n",
       "  </tbody>\n",
       "</table>\n",
       "</div>"
      ],
      "text/plain": [
       "    category        cross_lists year\n",
       "0   astro-ph    [gr-qc, hep-th]   12\n",
       "1     hep-th  [astro-ph, gr-qc]   12\n",
       "2     hep-th  [astro-ph, gr-qc]   12\n",
       "3   astro-ph           [hep-th]   13\n",
       "4     hep-th         [astro-ph]   14\n",
       "5     hep-th    [gr-qc, hep-ph]   15\n",
       "6     hep-th            [gr-qc]   15\n",
       "7     hep-th                 []   16\n",
       "8     hep-th                 []   17\n",
       "9     hep-th    [gr-qc, hep-ph]   18\n",
       "10    hep-th                 []   19\n",
       "11    hep-th    [gr-qc, hep-ph]   19\n",
       "12    hep-th                 []   20"
      ]
     },
     "execution_count": 28,
     "metadata": {},
     "output_type": "execute_result"
    }
   ],
   "source": [
    "subs_me[:][['category', 'cross_lists', 'year']]"
   ]
  },
  {
   "cell_type": "markdown",
   "id": "attached-savannah",
   "metadata": {},
   "source": [
    "## look at number of submissions per category per year"
   ]
  },
  {
   "cell_type": "code",
   "execution_count": 29,
   "id": "metallic-selling",
   "metadata": {},
   "outputs": [
    {
     "data": {
      "text/plain": [
       "year  category\n",
       "08    astro-ph    10127\n",
       "      cond-mat    10239\n",
       "      cs           3256\n",
       "      gr-qc        1867\n",
       "      hep-ex        923\n",
       "      hep-lat       515\n",
       "      hep-ph       4169\n",
       "      hep-th       3318\n",
       "      math        12246\n",
       "      math-ph      1256\n",
       "      nlin          760\n",
       "      nucl-ex       550\n",
       "      nucl-th      1047\n",
       "      physics      3870\n",
       "      q-bio         713\n",
       "      q-fin         285\n",
       "      quant-ph     3070\n",
       "      stat          456\n",
       "09    astro-ph    11280\n",
       "      cond-mat    10305\n",
       "Name: id, dtype: int64"
      ]
     },
     "execution_count": 29,
     "metadata": {},
     "output_type": "execute_result"
    }
   ],
   "source": [
    "catcounts = subs.groupby(['year', 'category'])['id'].count()\n",
    "catcounts.head(20)"
   ]
  },
  {
   "cell_type": "code",
   "execution_count": 30,
   "id": "coastal-thong",
   "metadata": {},
   "outputs": [
    {
     "data": {
      "text/plain": [
       "'q-fin'"
      ]
     },
     "execution_count": 30,
     "metadata": {},
     "output_type": "execute_result"
    }
   ],
   "source": [
    "catcounts['08'].index[catcounts['08'].argmin()]"
   ]
  },
  {
   "cell_type": "markdown",
   "id": "common-package",
   "metadata": {},
   "source": [
    "#### Set a minimum number of submissions needed per year to keep a category"
   ]
  },
  {
   "cell_type": "code",
   "execution_count": 31,
   "id": "prime-columbia",
   "metadata": {},
   "outputs": [],
   "source": [
    "MIN_CAT = 400"
   ]
  },
  {
   "cell_type": "code",
   "execution_count": 32,
   "id": "absent-rebound",
   "metadata": {},
   "outputs": [],
   "source": [
    "allcategories = list(subs.category.unique())\n",
    "keepcategories = allcategories.copy()"
   ]
  },
  {
   "cell_type": "code",
   "execution_count": 33,
   "id": "universal-situation",
   "metadata": {},
   "outputs": [],
   "source": [
    "catcounts_cut=catcounts[catcounts > MIN_CAT]\n",
    "catsperyear=[list(catcounts_cut[yr].index) for yr in list(catcounts_cut.index.unique(level=0))]"
   ]
  },
  {
   "cell_type": "code",
   "execution_count": 34,
   "id": "pleasant-hawaiian",
   "metadata": {},
   "outputs": [
    {
     "name": "stdout",
     "output_type": "stream",
     "text": [
      "categories kept: ['math', 'astro-ph', 'hep-ph', 'math-ph', 'hep-th', 'physics', 'quant-ph', 'cs', 'nucl-ex', 'cond-mat', 'stat', 'nlin', 'q-bio', 'nucl-th', 'hep-ex', 'gr-qc']\n",
      "categories removed: ['hep-lat', 'q-fin', 'eess', 'econ']\n"
     ]
    }
   ],
   "source": [
    "for i in range(len(catsperyear)):\n",
    "    keepcategories = [x for x in keepcategories if x in catsperyear[i]]\n",
    "\n",
    "removedcategories = [x for x in allcategories if x not in keepcategories]\n",
    "print(f'categories kept: {keepcategories}')\n",
    "print(f'categories removed: {removedcategories}')"
   ]
  },
  {
   "cell_type": "markdown",
   "id": "valuable-surname",
   "metadata": {},
   "source": [
    "### only keep those categories (I have no idea how year includes some few 11's, just kill them)"
   ]
  },
  {
   "cell_type": "code",
   "execution_count": 35,
   "id": "colored-christopher",
   "metadata": {},
   "outputs": [
    {
     "name": "stdout",
     "output_type": "stream",
     "text": [
      "646426 papers initially\n",
      "621367 papers after removing small categories\n"
     ]
    }
   ],
   "source": [
    "subscut = subs[subs.category.apply(lambda x: x in keepcategories)]\n",
    "subscut = subscut[subscut.year.apply(lambda x: x in list(catcounts_cut.index.unique(level=0)))]\n",
    "print(f'{subs.shape[0]} papers initially')\n",
    "print(f'{subscut.shape[0]} papers after removing small categories')"
   ]
  },
  {
   "cell_type": "code",
   "execution_count": 237,
   "id": "addressed-moldova",
   "metadata": {},
   "outputs": [
    {
     "name": "stdout",
     "output_type": "stream",
     "text": [
      "38400\n",
      "(38400, 5)\n"
     ]
    }
   ],
   "source": [
    "arxiv_sample = subscut.groupby(['year', 'category']).sample(n=MIN_CAT, random_state=RANDOM_SEED)\n",
    "original = subscut.groupby(['year', 'category']).sample(n=MIN_CAT, random_state=RANDOM_SEED)\n",
    "print(MIN_CAT*len(keepcategories)*6)\n",
    "print(arxiv_sample.shape)"
   ]
  },
  {
   "cell_type": "markdown",
   "id": "specialized-joseph",
   "metadata": {},
   "source": [
    "#### add a piece to remove newline characters"
   ]
  },
  {
   "cell_type": "code",
   "execution_count": 238,
   "id": "strong-essence",
   "metadata": {},
   "outputs": [],
   "source": [
    "arxiv_sample['abstract'] = arxiv_sample.abstract.apply(lambda x: x.replace('\\n', ' ') )"
   ]
  },
  {
   "cell_type": "markdown",
   "id": "liable-battle",
   "metadata": {},
   "source": [
    "#### add a piece to rewrite LaTeX as EQUATION"
   ]
  },
  {
   "cell_type": "code",
   "execution_count": 239,
   "id": "centered-invention",
   "metadata": {},
   "outputs": [],
   "source": [
    "arxiv_sample['abstract'] = arxiv_sample.abstract.apply(lambda x: re.sub(r'\\$(.+?)\\$', 'equation', x, flags=re.UNICODE))"
   ]
  },
  {
   "cell_type": "markdown",
   "id": "behind-television",
   "metadata": {},
   "source": [
    "### add a piece to:\n",
    " #### replace all numbers with NUMBER\n",
    " #### replace all greek letters with LETTER \n",
    " #### remove {,},|\n",
    " #### switch stupid LaTeX \\`\\` to \\' \n",
    " #### take super/sub scripts to space\n",
    " \n",
    " "
   ]
  },
  {
   "cell_type": "code",
   "execution_count": 240,
   "id": "thirty-directive",
   "metadata": {},
   "outputs": [],
   "source": [
    "greek = [r'\\\\alpah', r'\\\\beta', r'\\\\gamma', r'\\\\delta', r'\\\\epsilon', r'\\\\zeta', r'\\\\theta', r'\\\\eta', r'\\\\iota', r'\\\\kappa', r'\\\\lambda', r'\\\\mu', r'\\\\nu', r'\\\\xi', r'\\\\omicron', r'\\\\pi', r'\\\\rho', r'\\\\sigma', r'\\\\tau', r'\\\\upsilon', r'\\\\phi', r'\\\\chi', r'\\\\psi', r'\\\\omega']\n",
    "Greek = [r'\\\\Alpah', r'\\\\Beta', r'\\\\Gamma', r'\\\\Delta', r'\\\\Epsilon', r'\\\\Zeta', r'\\\\Theta', r'\\\\Eta', r'\\\\Iota', r'\\\\Kappa', r'\\\\Lambda', r'\\\\Mu', r'\\\\Nu', r'\\\\Xi', r'\\\\Omicron', r'\\\\Pi', r'\\\\Rho', r'\\\\Sigma', r'\\\\Tau', r'\\\\Upsilon', r'\\\\Phi', r'\\\\Chi', r'\\\\Psi', r'\\\\Omega']\n",
    "#arxiv_sample['abstract'] = arxiv_sample.abstract.apply(lambda x: re.sub(r'[0-9]+', 'NUMBER', x, flags=re.UNICODE))\n",
    "for letter in greek + Greek:\n",
    "    arxiv_sample['abstract'] = arxiv_sample.abstract.apply(lambda x: re.sub(letter, 'letter', x, flags=re.UNICODE))\n",
    "arxiv_sample['abstract'] = arxiv_sample.abstract.apply(lambda x: re.sub(r'[\\|\\{\\}]', '', x, flags=re.UNICODE))\n",
    "arxiv_sample['abstract'] = arxiv_sample.abstract.apply(lambda x: re.sub(r'\\`\\`', r\"'\", x, flags=re.UNICODE))\n",
    "arxiv_sample['abstract'] = arxiv_sample.abstract.apply(lambda x: re.sub(r'\\'\\'', r\"'\", x, flags=re.UNICODE))\n",
    "arxiv_sample['abstract'] = arxiv_sample.abstract.apply(lambda x: re.sub(r'[\\^\\_\\+]', '', x, flags=re.UNICODE))\n",
    "arxiv_sample['abstract'] = arxiv_sample.abstract.apply(lambda x: re.sub(r'\\\\\"o', 'o', x, flags=re.UNICODE))\n",
    "arxiv_sample['abstract'] = arxiv_sample.abstract.apply(lambda x: re.sub(r'\\\\\"a', 'a', x, flags=re.UNICODE))\n",
    "arxiv_sample['abstract'] = arxiv_sample.abstract.apply(lambda x: re.sub(r'\\\\\"u', 'u', x, flags=re.UNICODE))\n",
    "arxiv_sample['abstract'] = arxiv_sample.abstract.apply(lambda x: re.sub(r'\\\\pm', '', x, flags=re.UNICODE))\n",
    "arxiv_sample['abstract'] = arxiv_sample.abstract.apply(lambda x: re.sub(r'-->', 'to', x, flags=re.UNICODE))"
   ]
  },
  {
   "cell_type": "code",
   "execution_count": 241,
   "id": "related-fishing",
   "metadata": {},
   "outputs": [],
   "source": [
    "arxiv_sample['abstract'] = arxiv_sample.abstract.apply(lambda x: x[2:-1])"
   ]
  },
  {
   "cell_type": "code",
   "execution_count": 282,
   "id": "minimal-occasion",
   "metadata": {},
   "outputs": [
    {
     "data": {
      "text/plain": [
       "'Atmospheric turbulence is an important limit to high angular resolution in astronomy. Interferometry resolved this issue by filtering the incoming light with single-mode fibers. Thanks to this technique, we obtained with the IOTA interferometer very precise measurements of the spatial frequencies of seven evolved stars. From these measurements, we performed a blind deconvolution to restore an image of the surface of the stars. Six of the them, Betelgeuse, Mu Cep, R leo, Mira, Chi Cyg and CH Cyg, feature very asymmetrical brightness distributions. On the other hand, the Arcturus data are extremely well fitted with a simple limb-darkened photospheric disc. From the observations of equation Cyg, we show that the star is surrounded by a molecular shell undergoing a ballistic motion. We propose to use the same technique of spatial filtering with single-mode fibers to correct for the effect of turbulence in the pupil of a telescope. Because the pupil is redundant, this technique does require a remapping of the pupil. We developed a dedicated algorithm to show that it was possible to reconstruct images at the diffraction limit of the telescope free of any speckle noise. Our simulations show that a high dynamic range (over 106) could be obtained in the visible on an 8 meter telescope. A lab experiment is under construction to validate the concept of this new instrument.'"
      ]
     },
     "execution_count": 282,
     "metadata": {},
     "output_type": "execute_result"
    }
   ],
   "source": [
    "TESTNUM = 13115\n",
    "arxiv_sample.loc[arxiv_sample.index[TESTNUM]].abstract"
   ]
  },
  {
   "cell_type": "code",
   "execution_count": 283,
   "id": "close-worthy",
   "metadata": {},
   "outputs": [
    {
     "data": {
      "text/plain": [
       "'  Atmospheric turbulence is an important limit to high angular resolution in\\nastronomy. Interferometry resolved this issue by filtering the incoming light\\nwith single-mode fibers. Thanks to this technique, we obtained with the IOTA\\ninterferometer very precise measurements of the spatial frequencies of seven\\nevolved stars. From these measurements, we performed a blind deconvolution to\\nrestore an image of the surface of the stars. Six of the them, Betelgeuse, Mu\\nCep, R leo, Mira, Chi Cyg and CH Cyg, feature very asymmetrical brightness\\ndistributions. On the other hand, the Arcturus data are extremely well fitted\\nwith a simple limb-darkened photospheric disc. From the observations of $\\\\chi$\\nCyg, we show that the star is surrounded by a molecular shell undergoing a\\nballistic motion. We propose to use the same technique of spatial filtering\\nwith single-mode fibers to correct for the effect of turbulence in the pupil of\\na telescope. Because the pupil is redundant, this technique does require a\\nremapping of the pupil. We developed a dedicated algorithm to show that it was\\npossible to reconstruct images at the diffraction limit of the telescope free\\nof any speckle noise. Our simulations show that a high dynamic range (over\\n10^6) could be obtained in the visible on an 8 meter telescope. A lab\\nexperiment is under construction to validate the concept of this new\\ninstrument.\\n'"
      ]
     },
     "execution_count": 283,
     "metadata": {},
     "output_type": "execute_result"
    }
   ],
   "source": [
    "original.loc[arxiv_sample.index[TESTNUM]].abstract"
   ]
  },
  {
   "cell_type": "code",
   "execution_count": 267,
   "id": "finished-canvas",
   "metadata": {},
   "outputs": [
    {
     "data": {
      "text/plain": [
       "'0810.5182'"
      ]
     },
     "execution_count": 267,
     "metadata": {},
     "output_type": "execute_result"
    }
   ],
   "source": [
    "original.loc[arxiv_sample.index[TESTNUM]].id"
   ]
  },
  {
   "cell_type": "markdown",
   "id": "engaged-graduate",
   "metadata": {},
   "source": [
    "### original.loc[original.index[TESTNUM]].abstract"
   ]
  },
  {
   "cell_type": "code",
   "execution_count": 243,
   "id": "isolated-measurement",
   "metadata": {},
   "outputs": [],
   "source": [
    "arxiv_sample.to_csv('arxiv_sample.csv', index=False, header=True)\n",
    "subs_me.to_csv('my_papers.csv', index=False, header=True)"
   ]
  },
  {
   "cell_type": "code",
   "execution_count": null,
   "id": "premier-bottle",
   "metadata": {},
   "outputs": [],
   "source": []
  }
 ],
 "metadata": {
  "kernelspec": {
   "display_name": "Python 3",
   "language": "python",
   "name": "python3"
  },
  "language_info": {
   "codemirror_mode": {
    "name": "ipython",
    "version": 3
   },
   "file_extension": ".py",
   "mimetype": "text/x-python",
   "name": "python",
   "nbconvert_exporter": "python",
   "pygments_lexer": "ipython3",
   "version": "3.9.0"
  }
 },
 "nbformat": 4,
 "nbformat_minor": 5
}
