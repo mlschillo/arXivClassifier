{
 "cells": [
  {
   "cell_type": "markdown",
   "id": "coordinate-phrase",
   "metadata": {},
   "source": [
    "# Import and setup"
   ]
  },
  {
   "cell_type": "code",
   "execution_count": 1,
   "id": "endless-texas",
   "metadata": {},
   "outputs": [],
   "source": [
    "import json\n",
    "import re\n",
    "import pandas as pd\n",
    "import numpy as np\n",
    "import dask.bag as db\n",
    "from matplotlib import pyplot as plt\n",
    "from pylab import rcParams\n",
    "from matplotlib import rc\n",
    "import seaborn as sns"
   ]
  },
  {
   "cell_type": "code",
   "execution_count": 2,
   "id": "meaningful-store",
   "metadata": {},
   "outputs": [],
   "source": [
    "rcParams['figure.figsize'] = 15, 6\n",
    "RANDOM_SEED = 9\n",
    "np.random.seed(RANDOM_SEED)\n",
    "%matplotlib inline"
   ]
  },
  {
   "cell_type": "markdown",
   "id": "reduced-emphasis",
   "metadata": {},
   "source": [
    "# Look at the arxiv metadata"
   ]
  },
  {
   "cell_type": "code",
   "execution_count": 3,
   "id": "athletic-lightning",
   "metadata": {},
   "outputs": [],
   "source": [
    "info = db.read_text(\"arxiv-metadata-oai-snapshot.json\").map(json.loads)"
   ]
  },
  {
   "cell_type": "code",
   "execution_count": 4,
   "id": "governing-conversion",
   "metadata": {},
   "outputs": [],
   "source": [
    "first_v = lambda x: x['versions'][0]['created']"
   ]
  },
  {
   "cell_type": "markdown",
   "id": "closing-passenger",
   "metadata": {},
   "source": [
    "## Keep papers from years in between"
   ]
  },
  {
   "cell_type": "code",
   "execution_count": 5,
   "id": "original-booth",
   "metadata": {},
   "outputs": [],
   "source": [
    "trim = lambda x: {'id': x['id'],\n",
    "                  'category': x['categories'].split(' '),\n",
    "                 'abstract': x['abstract']}"
   ]
  },
  {
   "cell_type": "code",
   "execution_count": 6,
   "id": "alleged-rouge",
   "metadata": {},
   "outputs": [],
   "source": [
    "info_spans = info.filter(lambda x: int(first_v(x).split(' ')[3]) in [2011, 2012, 2013, 2014, 2015, 2016, 2017]).map(trim).compute()"
   ]
  },
  {
   "cell_type": "code",
   "execution_count": 7,
   "id": "purple-portfolio",
   "metadata": {},
   "outputs": [],
   "source": [
    "submissions = pd.DataFrame(info_spans)\n",
    "submissions['year'] = submissions.id.apply(lambda x: x[:2])\n",
    "submissions = submissions[submissions.year.apply(lambda x: x in ['11', '12', '13', '14', '15', '16', '17'])]"
   ]
  },
  {
   "cell_type": "markdown",
   "id": "novel-drama",
   "metadata": {},
   "source": [
    "### Only look at general category containing all sub-categories"
   ]
  },
  {
   "cell_type": "code",
   "execution_count": 8,
   "id": "crude-translation",
   "metadata": {},
   "outputs": [],
   "source": [
    "submissions['category'] = submissions.category.apply(lambda x: [a.split('.')[0] for a in x])\n",
    "submissions['category'] = submissions.category.apply(lambda x: list(dict.fromkeys(x)))"
   ]
  },
  {
   "cell_type": "markdown",
   "id": "stock-sterling",
   "metadata": {},
   "source": [
    "### Separate categories into submission category and cross-lists"
   ]
  },
  {
   "cell_type": "code",
   "execution_count": 9,
   "id": "overall-anthropology",
   "metadata": {},
   "outputs": [],
   "source": [
    "submissions['cross_lists']=submissions.category.apply(lambda x: x[1:])\n",
    "submissions['category']=submissions.category.apply(lambda x: x[0])"
   ]
  },
  {
   "cell_type": "markdown",
   "id": "particular-finnish",
   "metadata": {},
   "source": [
    "## look at number of submissions per category per year"
   ]
  },
  {
   "cell_type": "code",
   "execution_count": 10,
   "id": "alleged-bidder",
   "metadata": {},
   "outputs": [],
   "source": [
    "keepcategories =['math', 'astro-ph', 'hep-ph', 'math-ph', 'hep-th', 'physics', 'quant-ph', 'cs', 'cond-mat', 'nlin', 'q-bio', 'nucl-th', 'hep-ex', 'gr-qc']"
   ]
  },
  {
   "cell_type": "markdown",
   "id": "pursuant-daniel",
   "metadata": {},
   "source": [
    "### only keep those categories and balance the dataset"
   ]
  },
  {
   "cell_type": "code",
   "execution_count": 11,
   "id": "conceptual-albany",
   "metadata": {},
   "outputs": [],
   "source": [
    "submissionscut = submissions[submissions.category.apply(lambda x: x in keepcategories)]"
   ]
  },
  {
   "cell_type": "code",
   "execution_count": 41,
   "id": "backed-decline",
   "metadata": {},
   "outputs": [],
   "source": [
    "submissions_single_cat = submissionscut[submissionscut.cross_lists.apply(lambda x: len(x) == 0)]"
   ]
  },
  {
   "cell_type": "code",
   "execution_count": 42,
   "id": "third-aurora",
   "metadata": {},
   "outputs": [
    {
     "data": {
      "text/html": [
       "<div>\n",
       "<style scoped>\n",
       "    .dataframe tbody tr th:only-of-type {\n",
       "        vertical-align: middle;\n",
       "    }\n",
       "\n",
       "    .dataframe tbody tr th {\n",
       "        vertical-align: top;\n",
       "    }\n",
       "\n",
       "    .dataframe thead th {\n",
       "        text-align: right;\n",
       "    }\n",
       "</style>\n",
       "<table border=\"1\" class=\"dataframe\">\n",
       "  <thead>\n",
       "    <tr style=\"text-align: right;\">\n",
       "      <th></th>\n",
       "      <th>id</th>\n",
       "      <th>category</th>\n",
       "      <th>abstract</th>\n",
       "      <th>year</th>\n",
       "      <th>cross_lists</th>\n",
       "    </tr>\n",
       "  </thead>\n",
       "  <tbody>\n",
       "    <tr>\n",
       "      <th>1</th>\n",
       "      <td>1101.0311</td>\n",
       "      <td>math</td>\n",
       "      <td>This short note presents a peculiar generali...</td>\n",
       "      <td>11</td>\n",
       "      <td>[]</td>\n",
       "    </tr>\n",
       "    <tr>\n",
       "      <th>2</th>\n",
       "      <td>1101.0312</td>\n",
       "      <td>cond-mat</td>\n",
       "      <td>The Boltzmann constant was measured by compa...</td>\n",
       "      <td>11</td>\n",
       "      <td>[]</td>\n",
       "    </tr>\n",
       "    <tr>\n",
       "      <th>3</th>\n",
       "      <td>1101.0313</td>\n",
       "      <td>math</td>\n",
       "      <td>A geometric version of the Poincar\\'e Lemma ...</td>\n",
       "      <td>11</td>\n",
       "      <td>[]</td>\n",
       "    </tr>\n",
       "    <tr>\n",
       "      <th>4</th>\n",
       "      <td>1101.0314</td>\n",
       "      <td>cond-mat</td>\n",
       "      <td>The topological magnetoelectric effect (TME)...</td>\n",
       "      <td>11</td>\n",
       "      <td>[]</td>\n",
       "    </tr>\n",
       "    <tr>\n",
       "      <th>5</th>\n",
       "      <td>1101.0315</td>\n",
       "      <td>physics</td>\n",
       "      <td>We have studied the context and development ...</td>\n",
       "      <td>11</td>\n",
       "      <td>[]</td>\n",
       "    </tr>\n",
       "  </tbody>\n",
       "</table>\n",
       "</div>"
      ],
      "text/plain": [
       "          id  category                                           abstract  \\\n",
       "1  1101.0311      math    This short note presents a peculiar generali...   \n",
       "2  1101.0312  cond-mat    The Boltzmann constant was measured by compa...   \n",
       "3  1101.0313      math    A geometric version of the Poincar\\'e Lemma ...   \n",
       "4  1101.0314  cond-mat    The topological magnetoelectric effect (TME)...   \n",
       "5  1101.0315   physics    We have studied the context and development ...   \n",
       "\n",
       "  year cross_lists  \n",
       "1   11          []  \n",
       "2   11          []  \n",
       "3   11          []  \n",
       "4   11          []  \n",
       "5   11          []  "
      ]
     },
     "execution_count": 42,
     "metadata": {},
     "output_type": "execute_result"
    }
   ],
   "source": [
    "submissions_single_cat.head()"
   ]
  },
  {
   "cell_type": "code",
   "execution_count": 43,
   "id": "marine-nerve",
   "metadata": {},
   "outputs": [],
   "source": [
    "MIN_CAT = 75\n",
    "arxiv_sample = submissionscut.groupby(['year', 'category']).sample(n=MIN_CAT, random_state=RANDOM_SEED)\n",
    "arxiv_sample_sincat = submissions_single_cat.groupby(['year', 'category']).sample(n=MIN_CAT, random_state=RANDOM_SEED, replace=True)"
   ]
  },
  {
   "cell_type": "markdown",
   "id": "placed-airplane",
   "metadata": {},
   "source": [
    "Some categories do not have 75 single-category submissions per year so we use replace.  However since these are only being used to calculate accuracy, not training, this bloat doesn't hurt us."
   ]
  },
  {
   "cell_type": "code",
   "execution_count": 44,
   "id": "centered-bahamas",
   "metadata": {},
   "outputs": [
    {
     "data": {
      "text/plain": [
       "year  category\n",
       "11    astro-ph    10166\n",
       "      cond-mat     9312\n",
       "      cs           4737\n",
       "      gr-qc         761\n",
       "      hep-ex        918\n",
       "                  ...  \n",
       "17    nlin          488\n",
       "      nucl-th       624\n",
       "      physics      7152\n",
       "      q-bio         933\n",
       "      quant-ph     3100\n",
       "Name: category, Length: 91, dtype: int64"
      ]
     },
     "execution_count": 44,
     "metadata": {},
     "output_type": "execute_result"
    }
   ],
   "source": [
    "submissions_single_cat.groupby(['year', 'category'])['category'].count()"
   ]
  },
  {
   "cell_type": "code",
   "execution_count": 13,
   "id": "corrected-cattle",
   "metadata": {},
   "outputs": [
    {
     "data": {
      "image/png": "[encoded data removed]",
      "text/plain": [
       "<Figure size 1080x360 with 1 Axes>"
      ]
     },
     "metadata": {
      "needs_background": "light"
     },
     "output_type": "display_data"
    }
   ],
   "source": [
    "plt.figure(figsize=(15,5))\n",
    "sns.countplot(x=arxiv_sample.category)\n",
    "plt.xlabel('category');"
   ]
  },
  {
   "cell_type": "markdown",
   "id": "artistic-morris",
   "metadata": {},
   "source": [
    "# CLEAN\n",
    "- remove newline characters\n",
    "- rewrite $LaTeX$ as 'equation'\n",
    "- replace all greek letters with 'letter'\n",
    "- remove special characters"
   ]
  },
  {
   "cell_type": "code",
   "execution_count": 14,
   "id": "another-venture",
   "metadata": {},
   "outputs": [],
   "source": [
    "arxiv_sample['abstract'] = arxiv_sample.abstract.str.replace('\\n', ' ') \n",
    "arxiv_sample['abstract'] = arxiv_sample.abstract.apply(lambda x: re.sub(r'\\$(.+?)\\$', 'equation', x, flags=re.UNICODE))\n",
    "greek = [r'\\\\alpah', r'\\\\beta', r'\\\\gamma', r'\\\\delta', r'\\\\epsilon', r'\\\\zeta', r'\\\\theta', r'\\\\eta', r'\\\\iota', r'\\\\kappa', r'\\\\lambda', r'\\\\mu', r'\\\\nu', r'\\\\xi', r'\\\\omicron', r'\\\\pi', r'\\\\rho', r'\\\\sigma', r'\\\\tau', r'\\\\upsilon', r'\\\\phi', r'\\\\chi', r'\\\\psi', r'\\\\omega']\n",
    "Greek = [r'\\\\Alpah', r'\\\\Beta', r'\\\\Gamma', r'\\\\Delta', r'\\\\Epsilon', r'\\\\Zeta', r'\\\\Theta', r'\\\\Eta', r'\\\\Iota', r'\\\\Kappa', r'\\\\Lambda', r'\\\\Mu', r'\\\\Nu', r'\\\\Xi', r'\\\\Omicron', r'\\\\Pi', r'\\\\Rho', r'\\\\Sigma', r'\\\\Tau', r'\\\\Upsilon', r'\\\\Phi', r'\\\\Chi', r'\\\\Psi', r'\\\\Omega']\n",
    "for letter in greek + Greek:\n",
    "    arxiv_sample['abstract'] = arxiv_sample.abstract.apply(lambda x: re.sub(letter, 'letter', x, flags=re.UNICODE))\n",
    "arxiv_sample['abstract'] = arxiv_sample.abstract.apply(lambda x: re.sub(r'[\\|\\{\\}]', '', x, flags=re.UNICODE))\n",
    "arxiv_sample['abstract'] = arxiv_sample.abstract.apply(lambda x: re.sub(r'\\`\\`', r\"'\", x, flags=re.UNICODE))\n",
    "arxiv_sample['abstract'] = arxiv_sample.abstract.apply(lambda x: re.sub(r'\\'\\'', r\"'\", x, flags=re.UNICODE))\n",
    "arxiv_sample['abstract'] = arxiv_sample.abstract.apply(lambda x: re.sub(r'[\\^\\_\\+]', '', x, flags=re.UNICODE))\n",
    "arxiv_sample['abstract'] = arxiv_sample.abstract.apply(lambda x: re.sub(r'\\\\\"o', 'o', x, flags=re.UNICODE))\n",
    "arxiv_sample['abstract'] = arxiv_sample.abstract.apply(lambda x: re.sub(r'\\\\\"a', 'a', x, flags=re.UNICODE))\n",
    "arxiv_sample['abstract'] = arxiv_sample.abstract.apply(lambda x: re.sub(r'\\\\\"u', 'u', x, flags=re.UNICODE))\n",
    "arxiv_sample['abstract'] = arxiv_sample.abstract.apply(lambda x: re.sub(r'\\\\pm', '', x, flags=re.UNICODE))\n",
    "arxiv_sample['abstract'] = arxiv_sample.abstract.apply(lambda x: re.sub(r'-->', 'to', x, flags=re.UNICODE))\n",
    "arxiv_sample['abstract'] = arxiv_sample['abstract'].str[2:-1]"
   ]
  },
  {
   "cell_type": "code",
   "execution_count": 45,
   "id": "indoor-brother",
   "metadata": {},
   "outputs": [],
   "source": [
    "\n",
    "arxiv_sample_sincat['abstract'] = arxiv_sample_sincat.abstract.str.replace('\\n', ' ') \n",
    "arxiv_sample_sincat['abstract'] = arxiv_sample_sincat.abstract.apply(lambda x: re.sub(r'\\$(.+?)\\$', 'equation', x, flags=re.UNICODE))\n",
    "greek = [r'\\\\alpah', r'\\\\beta', r'\\\\gamma', r'\\\\delta', r'\\\\epsilon', r'\\\\zeta', r'\\\\theta', r'\\\\eta', r'\\\\iota', r'\\\\kappa', r'\\\\lambda', r'\\\\mu', r'\\\\nu', r'\\\\xi', r'\\\\omicron', r'\\\\pi', r'\\\\rho', r'\\\\sigma', r'\\\\tau', r'\\\\upsilon', r'\\\\phi', r'\\\\chi', r'\\\\psi', r'\\\\omega']\n",
    "Greek = [r'\\\\Alpah', r'\\\\Beta', r'\\\\Gamma', r'\\\\Delta', r'\\\\Epsilon', r'\\\\Zeta', r'\\\\Theta', r'\\\\Eta', r'\\\\Iota', r'\\\\Kappa', r'\\\\Lambda', r'\\\\Mu', r'\\\\Nu', r'\\\\Xi', r'\\\\Omicron', r'\\\\Pi', r'\\\\Rho', r'\\\\Sigma', r'\\\\Tau', r'\\\\Upsilon', r'\\\\Phi', r'\\\\Chi', r'\\\\Psi', r'\\\\Omega']\n",
    "for letter in greek + Greek:\n",
    "    arxiv_sample_sincat['abstract'] = arxiv_sample_sincat.abstract.apply(lambda x: re.sub(letter, 'letter', x, flags=re.UNICODE))\n",
    "arxiv_sample_sincat['abstract'] = arxiv_sample_sincat.abstract.apply(lambda x: re.sub(r'[\\|\\{\\}]', '', x, flags=re.UNICODE))\n",
    "arxiv_sample_sincat['abstract'] = arxiv_sample_sincat.abstract.apply(lambda x: re.sub(r'\\`\\`', r\"'\", x, flags=re.UNICODE))\n",
    "arxiv_sample_sincat['abstract'] = arxiv_sample_sincat.abstract.apply(lambda x: re.sub(r'\\'\\'', r\"'\", x, flags=re.UNICODE))\n",
    "arxiv_sample_sincat['abstract'] = arxiv_sample_sincat.abstract.apply(lambda x: re.sub(r'[\\^\\_\\+]', '', x, flags=re.UNICODE))\n",
    "arxiv_sample_sincat['abstract'] = arxiv_sample_sincat.abstract.apply(lambda x: re.sub(r'\\\\\"o', 'o', x, flags=re.UNICODE))\n",
    "arxiv_sample_sincat['abstract'] = arxiv_sample_sincat.abstract.apply(lambda x: re.sub(r'\\\\\"a', 'a', x, flags=re.UNICODE))\n",
    "arxiv_sample_sincat['abstract'] = arxiv_sample_sincat.abstract.apply(lambda x: re.sub(r'\\\\\"u', 'u', x, flags=re.UNICODE))\n",
    "arxiv_sample_sincat['abstract'] = arxiv_sample_sincat.abstract.apply(lambda x: re.sub(r'\\\\pm', '', x, flags=re.UNICODE))\n",
    "arxiv_sample_sincat['abstract'] = arxiv_sample_sincat.abstract.apply(lambda x: re.sub(r'-->', 'to', x, flags=re.UNICODE))\n",
    "arxiv_sample_sincat['abstract'] = arxiv_sample_sincat['abstract'].str[2:-1]"
   ]
  },
  {
   "cell_type": "markdown",
   "id": "comprehensive-display",
   "metadata": {},
   "source": [
    "# Make testing sets"
   ]
  },
  {
   "cell_type": "markdown",
   "id": "extensive-worship",
   "metadata": {},
   "source": [
    "### Add an int to represent a category"
   ]
  },
  {
   "cell_type": "code",
   "execution_count": 15,
   "id": "potential-evans",
   "metadata": {},
   "outputs": [],
   "source": [
    "def cat_to_int_label(cat):\n",
    " for i in range(len(keepcategories)):\n",
    "    if cat == keepcategories[i]:\n",
    "      return i"
   ]
  },
  {
   "cell_type": "code",
   "execution_count": 46,
   "id": "aerial-leonard",
   "metadata": {},
   "outputs": [],
   "source": [
    "arxiv_sample['cat_int'] = arxiv_sample.category.apply(cat_to_int_label)\n",
    "arxiv_sample_sincat['cat_int'] = arxiv_sample_sincat.category.apply(cat_to_int_label)"
   ]
  },
  {
   "cell_type": "code",
   "execution_count": 17,
   "id": "permanent-arrow",
   "metadata": {},
   "outputs": [],
   "source": [
    "arxiv_11 = arxiv_sample[arxiv_sample.year == '11']\n",
    "arxiv_12 = arxiv_sample[arxiv_sample.year == '12']\n",
    "arxiv_13 = arxiv_sample[arxiv_sample.year == '13']\n",
    "arxiv_14 = arxiv_sample[arxiv_sample.year == '14']\n",
    "arxiv_15 = arxiv_sample[arxiv_sample.year == '15']\n",
    "arxiv_16 = arxiv_sample[arxiv_sample.year == '16']\n",
    "arxiv_17 = arxiv_sample[arxiv_sample.year == '17']"
   ]
  },
  {
   "cell_type": "code",
   "execution_count": 47,
   "id": "infrared-outside",
   "metadata": {},
   "outputs": [],
   "source": [
    "arxiv_11_sincat = arxiv_sample_sincat[arxiv_sample_sincat.year == '11']\n",
    "arxiv_12_sincat = arxiv_sample_sincat[arxiv_sample_sincat.year == '12']\n",
    "arxiv_13_sincat = arxiv_sample_sincat[arxiv_sample_sincat.year == '13']\n",
    "arxiv_14_sincat = arxiv_sample_sincat[arxiv_sample_sincat.year == '14']\n",
    "arxiv_15_sincat = arxiv_sample_sincat[arxiv_sample_sincat.year == '15']\n",
    "arxiv_16_sincat = arxiv_sample_sincat[arxiv_sample_sincat.year == '16']\n",
    "arxiv_17_sincat = arxiv_sample_sincat[arxiv_sample_sincat.year == '17']"
   ]
  },
  {
   "cell_type": "code",
   "execution_count": 19,
   "id": "reflected-popularity",
   "metadata": {},
   "outputs": [],
   "source": [
    "arxiv_11.to_csv('arxiv_11.csv', index=False, header=True)\n",
    "arxiv_12.to_csv('arxiv_12.csv', index=False, header=True)\n",
    "arxiv_13.to_csv('arxiv_13.csv', index=False, header=True)\n",
    "arxiv_14.to_csv('arxiv_14.csv', index=False, header=True)\n",
    "arxiv_15.to_csv('arxiv_15.csv', index=False, header=True)\n",
    "arxiv_16.to_csv('arxiv_16.csv', index=False, header=True)\n",
    "arxiv_17.to_csv('arxiv_17.csv', index=False, header=True)\n"
   ]
  },
  {
   "cell_type": "code",
   "execution_count": 48,
   "id": "cooked-cornwall",
   "metadata": {},
   "outputs": [],
   "source": [
    "arxiv_11_sincat.to_csv('arxiv_11_sincat.csv', index=False, header=True)\n",
    "arxiv_12_sincat.to_csv('arxiv_12_sincat.csv', index=False, header=True)\n",
    "arxiv_13_sincat.to_csv('arxiv_13_sincat.csv', index=False, header=True)\n",
    "arxiv_14_sincat.to_csv('arxiv_14_sincat.csv', index=False, header=True)\n",
    "arxiv_15_sincat.to_csv('arxiv_15_sincat.csv', index=False, header=True)\n",
    "arxiv_16_sincat.to_csv('arxiv_16_sincat.csv', index=False, header=True)\n",
    "arxiv_17_sincat.to_csv('arxiv_17_sincat.csv', index=False, header=True)\n"
   ]
  },
  {
   "cell_type": "code",
   "execution_count": 21,
   "id": "vietnamese-teach",
   "metadata": {},
   "outputs": [
    {
     "data": {
      "text/html": [
       "<div>\n",
       "<style scoped>\n",
       "    .dataframe tbody tr th:only-of-type {\n",
       "        vertical-align: middle;\n",
       "    }\n",
       "\n",
       "    .dataframe tbody tr th {\n",
       "        vertical-align: top;\n",
       "    }\n",
       "\n",
       "    .dataframe thead th {\n",
       "        text-align: right;\n",
       "    }\n",
       "</style>\n",
       "<table border=\"1\" class=\"dataframe\">\n",
       "  <thead>\n",
       "    <tr style=\"text-align: right;\">\n",
       "      <th></th>\n",
       "      <th>id</th>\n",
       "      <th>category</th>\n",
       "      <th>abstract</th>\n",
       "      <th>year</th>\n",
       "      <th>cross_lists</th>\n",
       "      <th>cat_int</th>\n",
       "    </tr>\n",
       "  </thead>\n",
       "  <tbody>\n",
       "    <tr>\n",
       "      <th>25903</th>\n",
       "      <td>1105.2385</td>\n",
       "      <td>astro-ph</td>\n",
       "      <td>We present a concept study on weak lensing map...</td>\n",
       "      <td>11</td>\n",
       "      <td>[]</td>\n",
       "      <td>1</td>\n",
       "    </tr>\n",
       "    <tr>\n",
       "      <th>60692</th>\n",
       "      <td>1110.5131</td>\n",
       "      <td>astro-ph</td>\n",
       "      <td>Candidate supernova remnants G23.50.1 and G25....</td>\n",
       "      <td>11</td>\n",
       "      <td>[]</td>\n",
       "      <td>1</td>\n",
       "    </tr>\n",
       "    <tr>\n",
       "      <th>75095</th>\n",
       "      <td>1112.5285</td>\n",
       "      <td>astro-ph</td>\n",
       "      <td>Gamma ray bursts (GRBs) are thought to origina...</td>\n",
       "      <td>11</td>\n",
       "      <td>[]</td>\n",
       "      <td>1</td>\n",
       "    </tr>\n",
       "    <tr>\n",
       "      <th>74424</th>\n",
       "      <td>1112.4614</td>\n",
       "      <td>astro-ph</td>\n",
       "      <td>The Fermi Large Area Telescope (Fermi LAT) pro...</td>\n",
       "      <td>11</td>\n",
       "      <td>[]</td>\n",
       "      <td>1</td>\n",
       "    </tr>\n",
       "    <tr>\n",
       "      <th>65318</th>\n",
       "      <td>1111.2827</td>\n",
       "      <td>astro-ph</td>\n",
       "      <td>We revisit the origin of Larson's scaling rela...</td>\n",
       "      <td>11</td>\n",
       "      <td>[]</td>\n",
       "      <td>1</td>\n",
       "    </tr>\n",
       "    <tr>\n",
       "      <th>16627</th>\n",
       "      <td>1103.5104</td>\n",
       "      <td>astro-ph</td>\n",
       "      <td>G.V.Juggarow was one of the early pioneers of ...</td>\n",
       "      <td>11</td>\n",
       "      <td>[]</td>\n",
       "      <td>1</td>\n",
       "    </tr>\n",
       "    <tr>\n",
       "      <th>11117</th>\n",
       "      <td>1102.5366</td>\n",
       "      <td>astro-ph</td>\n",
       "      <td>We report the results of a new survey of massi...</td>\n",
       "      <td>11</td>\n",
       "      <td>[]</td>\n",
       "      <td>1</td>\n",
       "    </tr>\n",
       "    <tr>\n",
       "      <th>16987</th>\n",
       "      <td>1103.5464</td>\n",
       "      <td>astro-ph</td>\n",
       "      <td>We present observations and dynamical models o...</td>\n",
       "      <td>11</td>\n",
       "      <td>[]</td>\n",
       "      <td>1</td>\n",
       "    </tr>\n",
       "    <tr>\n",
       "      <th>2307</th>\n",
       "      <td>1101.2626</td>\n",
       "      <td>astro-ph</td>\n",
       "      <td>We present CO(1-0) and CO(2-1) maps of the int...</td>\n",
       "      <td>11</td>\n",
       "      <td>[]</td>\n",
       "      <td>1</td>\n",
       "    </tr>\n",
       "    <tr>\n",
       "      <th>56595</th>\n",
       "      <td>1110.1034</td>\n",
       "      <td>astro-ph</td>\n",
       "      <td>We present a new, simple method to predict act...</td>\n",
       "      <td>11</td>\n",
       "      <td>[]</td>\n",
       "      <td>1</td>\n",
       "    </tr>\n",
       "    <tr>\n",
       "      <th>30617</th>\n",
       "      <td>1106.0727</td>\n",
       "      <td>astro-ph</td>\n",
       "      <td>One of the FLRW models that best fits the WMAP...</td>\n",
       "      <td>11</td>\n",
       "      <td>[gr-qc]</td>\n",
       "      <td>1</td>\n",
       "    </tr>\n",
       "    <tr>\n",
       "      <th>40529</th>\n",
       "      <td>1107.4282</td>\n",
       "      <td>astro-ph</td>\n",
       "      <td>The CLEAN algorithm, widely used in radio inte...</td>\n",
       "      <td>11</td>\n",
       "      <td>[]</td>\n",
       "      <td>1</td>\n",
       "    </tr>\n",
       "    <tr>\n",
       "      <th>56214</th>\n",
       "      <td>1110.0653</td>\n",
       "      <td>astro-ph</td>\n",
       "      <td>A recent study of the accretion efficiency of ...</td>\n",
       "      <td>11</td>\n",
       "      <td>[]</td>\n",
       "      <td>1</td>\n",
       "    </tr>\n",
       "    <tr>\n",
       "      <th>10848</th>\n",
       "      <td>1102.5097</td>\n",
       "      <td>astro-ph</td>\n",
       "      <td>For over a decade, it has been debated whether...</td>\n",
       "      <td>11</td>\n",
       "      <td>[]</td>\n",
       "      <td>1</td>\n",
       "    </tr>\n",
       "    <tr>\n",
       "      <th>64643</th>\n",
       "      <td>1111.2152</td>\n",
       "      <td>astro-ph</td>\n",
       "      <td>We propose a statistical method for decomposit...</td>\n",
       "      <td>11</td>\n",
       "      <td>[]</td>\n",
       "      <td>1</td>\n",
       "    </tr>\n",
       "  </tbody>\n",
       "</table>\n",
       "</div>"
      ],
      "text/plain": [
       "              id  category                                           abstract  \\\n",
       "25903  1105.2385  astro-ph  We present a concept study on weak lensing map...   \n",
       "60692  1110.5131  astro-ph  Candidate supernova remnants G23.50.1 and G25....   \n",
       "75095  1112.5285  astro-ph  Gamma ray bursts (GRBs) are thought to origina...   \n",
       "74424  1112.4614  astro-ph  The Fermi Large Area Telescope (Fermi LAT) pro...   \n",
       "65318  1111.2827  astro-ph  We revisit the origin of Larson's scaling rela...   \n",
       "16627  1103.5104  astro-ph  G.V.Juggarow was one of the early pioneers of ...   \n",
       "11117  1102.5366  astro-ph  We report the results of a new survey of massi...   \n",
       "16987  1103.5464  astro-ph  We present observations and dynamical models o...   \n",
       "2307   1101.2626  astro-ph  We present CO(1-0) and CO(2-1) maps of the int...   \n",
       "56595  1110.1034  astro-ph  We present a new, simple method to predict act...   \n",
       "30617  1106.0727  astro-ph  One of the FLRW models that best fits the WMAP...   \n",
       "40529  1107.4282  astro-ph  The CLEAN algorithm, widely used in radio inte...   \n",
       "56214  1110.0653  astro-ph  A recent study of the accretion efficiency of ...   \n",
       "10848  1102.5097  astro-ph  For over a decade, it has been debated whether...   \n",
       "64643  1111.2152  astro-ph  We propose a statistical method for decomposit...   \n",
       "\n",
       "      year cross_lists  cat_int  \n",
       "25903   11          []        1  \n",
       "60692   11          []        1  \n",
       "75095   11          []        1  \n",
       "74424   11          []        1  \n",
       "65318   11          []        1  \n",
       "16627   11          []        1  \n",
       "11117   11          []        1  \n",
       "16987   11          []        1  \n",
       "2307    11          []        1  \n",
       "56595   11          []        1  \n",
       "30617   11     [gr-qc]        1  \n",
       "40529   11          []        1  \n",
       "56214   11          []        1  \n",
       "10848   11          []        1  \n",
       "64643   11          []        1  "
      ]
     },
     "execution_count": 21,
     "metadata": {},
     "output_type": "execute_result"
    }
   ],
   "source": [
    "arxiv_11.head(15)"
   ]
  },
  {
   "cell_type": "code",
   "execution_count": null,
   "id": "owned-westminster",
   "metadata": {},
   "outputs": [],
   "source": []
  }
 ],
 "metadata": {
  "kernelspec": {
   "display_name": "Python 3",
   "language": "python",
   "name": "python3"
  },
  "language_info": {
   "codemirror_mode": {
    "name": "ipython",
    "version": 3
   },
   "file_extension": ".py",
   "mimetype": "text/x-python",
   "name": "python",
   "nbconvert_exporter": "python",
   "pygments_lexer": "ipython3",
   "version": "3.9.0"
  }
 },
 "nbformat": 4,
 "nbformat_minor": 5
}
