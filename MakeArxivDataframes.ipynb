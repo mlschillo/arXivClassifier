{
 "cells": [
  {
   "cell_type": "markdown",
   "id": "behind-industry",
   "metadata": {},
   "source": [
    "# Import and setup"
   ]
  },
  {
   "cell_type": "code",
   "execution_count": 1,
   "id": "unlike-equipment",
   "metadata": {},
   "outputs": [],
   "source": [
    "import json\n",
    "import re\n",
    "import pandas as pd\n",
    "import numpy as np\n",
    "import dask.bag as db\n",
    "from matplotlib import pyplot as plt\n",
    "from pylab import rcParams\n",
    "from matplotlib import rc\n",
    "import seaborn as sns"
   ]
  },
  {
   "cell_type": "code",
   "execution_count": 2,
   "id": "domestic-joyce",
   "metadata": {},
   "outputs": [],
   "source": [
    "rcParams['figure.figsize'] = 15, 6\n",
    "RANDOM_SEED = 9\n",
    "np.random.seed(RANDOM_SEED)\n",
    "%matplotlib inline"
   ]
  },
  {
   "cell_type": "markdown",
   "id": "joined-retail",
   "metadata": {},
   "source": [
    "# Look at the arxiv metadata"
   ]
  },
  {
   "cell_type": "code",
   "execution_count": 3,
   "id": "tracked-bundle",
   "metadata": {},
   "outputs": [
    {
     "data": {
      "text/plain": [
       "({'id': '0704.0001',\n",
       "  'submitter': 'Pavel Nadolsky',\n",
       "  'authors': \"C. Bal\\\\'azs, E. L. Berger, P. M. Nadolsky, C.-P. Yuan\",\n",
       "  'title': 'Calculation of prompt diphoton production cross sections at Tevatron and\\n  LHC energies',\n",
       "  'comments': '37 pages, 15 figures; published version',\n",
       "  'journal-ref': 'Phys.Rev.D76:013009,2007',\n",
       "  'doi': '10.1103/PhysRevD.76.013009',\n",
       "  'report-no': 'ANL-HEP-PR-07-12',\n",
       "  'categories': 'hep-ph',\n",
       "  'license': None,\n",
       "  'abstract': '  A fully differential calculation in perturbative quantum chromodynamics is\\npresented for the production of massive photon pairs at hadron colliders. All\\nnext-to-leading order perturbative contributions from quark-antiquark,\\ngluon-(anti)quark, and gluon-gluon subprocesses are included, as well as\\nall-orders resummation of initial-state gluon radiation valid at\\nnext-to-next-to-leading logarithmic accuracy. The region of phase space is\\nspecified in which the calculation is most reliable. Good agreement is\\ndemonstrated with data from the Fermilab Tevatron, and predictions are made for\\nmore detailed tests with CDF and DO data. Predictions are shown for\\ndistributions of diphoton pairs produced at the energy of the Large Hadron\\nCollider (LHC). Distributions of the diphoton pairs from the decay of a Higgs\\nboson are contrasted with those produced from QCD processes at the LHC, showing\\nthat enhanced sensitivity to the signal can be obtained with judicious\\nselection of events.\\n',\n",
       "  'versions': [{'version': 'v1', 'created': 'Mon, 2 Apr 2007 19:18:42 GMT'},\n",
       "   {'version': 'v2', 'created': 'Tue, 24 Jul 2007 20:10:27 GMT'}],\n",
       "  'update_date': '2008-11-26',\n",
       "  'authors_parsed': [['Balázs', 'C.', ''],\n",
       "   ['Berger', 'E. L.', ''],\n",
       "   ['Nadolsky', 'P. M.', ''],\n",
       "   ['Yuan', 'C. -P.', '']]},)"
      ]
     },
     "execution_count": 3,
     "metadata": {},
     "output_type": "execute_result"
    }
   ],
   "source": [
    "info = db.read_text(\"arxiv-metadata-oai-snapshot.json\").map(json.loads)\n",
    "info.take(1)"
   ]
  },
  {
   "cell_type": "markdown",
   "id": "vocational-active",
   "metadata": {},
   "source": [
    "## Look at the number of submissions as a function of time"
   ]
  },
  {
   "cell_type": "code",
   "execution_count": 4,
   "id": "cloudy-debate",
   "metadata": {},
   "outputs": [
    {
     "data": {
      "text/plain": [
       "'Mon, 2 Apr 2007 19:18:42 GMT'"
      ]
     },
     "execution_count": 4,
     "metadata": {},
     "output_type": "execute_result"
    }
   ],
   "source": [
    "first_v = lambda x: x['versions'][0]['created']\n",
    "first_v(info.take(1)[0])"
   ]
  },
  {
   "cell_type": "code",
   "execution_count": 5,
   "id": "upset-cliff",
   "metadata": {},
   "outputs": [],
   "source": [
    "dates_freq = info.map(first_v).frequencies(sort=True)\n",
    "dates_df = dates_freq.to_dataframe(columns = ['sub_datetime', 'num_sub']).compute()\n",
    "date_format = '%a, %d %b %Y %H:%M:%S %Z'\n",
    "dates_df['sub_datetime'] = pd.to_datetime(dates_df.sub_datetime, format = date_format)\n",
    "dates_df['sub_year'] = dates_df.sub_datetime.dt.year\n",
    "dates3 = dates_df.groupby('sub_year').sum().reset_index()"
   ]
  },
  {
   "cell_type": "code",
   "execution_count": 6,
   "id": "ecological-conversation",
   "metadata": {},
   "outputs": [
    {
     "data": {
      "image/png": "[encoded data removed]",
      "text/plain": [
       "<Figure size 432x288 with 1 Axes>"
      ]
     },
     "metadata": {
      "needs_background": "light"
     },
     "output_type": "display_data"
    }
   ],
   "source": [
    "plt.bar(dates3['sub_year'], dates3['num_sub'])\n",
    "plt.title('Submissions/Year')\n",
    "plt.show()"
   ]
  },
  {
   "cell_type": "markdown",
   "id": "military-avenue",
   "metadata": {},
   "source": [
    "## Keep papers from two 3-year timespans separated 10 years apart: [2008, 2009, 2010] and [2018, 2019, 2020]. (also keep my papers)"
   ]
  },
  {
   "cell_type": "code",
   "execution_count": 7,
   "id": "collected-dressing",
   "metadata": {},
   "outputs": [],
   "source": [
    "trim = lambda x: {'id': x['id'],\n",
    "                  'category': x['categories'].split(' '),\n",
    "                 'abstract': x['abstract']}"
   ]
  },
  {
   "cell_type": "code",
   "execution_count": 8,
   "id": "generic-correlation",
   "metadata": {},
   "outputs": [],
   "source": [
    "info_spans = info.filter(lambda x: int(first_v(x).split(' ')[3]) in [2008, 2009, 2010, 2018, 2019, 2020]).map(trim).compute()"
   ]
  },
  {
   "cell_type": "code",
   "execution_count": 9,
   "id": "dietary-violence",
   "metadata": {},
   "outputs": [],
   "source": [
    "info_me = info.filter(lambda x: ['Schillo', 'Marjorie', ''] \n",
    "                      in x['authors_parsed']).map(trim).compute()"
   ]
  },
  {
   "cell_type": "code",
   "execution_count": 10,
   "id": "cubic-bradley",
   "metadata": {},
   "outputs": [],
   "source": [
    "submissions = pd.DataFrame(info_spans)\n",
    "my_submissions = pd.DataFrame(info_me)\n",
    "\n",
    "submissions['year'] = submissions.id.apply(lambda x: x[:2])\n",
    "submissions = submissions[submissions.year.apply(lambda x: x in ['08', '09', '10', '18', '19', '20'])]\n",
    "my_submissions['year'] = my_submissions.id.apply(lambda x: x[:2])"
   ]
  },
  {
   "cell_type": "code",
   "execution_count": 11,
   "id": "affecting-pacific",
   "metadata": {},
   "outputs": [
    {
     "name": "stdout",
     "output_type": "stream",
     "text": [
      "646095 papers for 2008, 2009, 2010, 2018, 2019, 2020\n",
      "13 papers for me\n"
     ]
    }
   ],
   "source": [
    "print(f'{submissions.shape[0]} papers for 2008, 2009, 2010, 2018, 2019, 2020')\n",
    "print(f'{my_submissions.shape[0]} papers for me')"
   ]
  },
  {
   "cell_type": "markdown",
   "id": "portable-struggle",
   "metadata": {},
   "source": [
    "### Only look at general category containing all sub-categories"
   ]
  },
  {
   "cell_type": "code",
   "execution_count": 12,
   "id": "northern-reply",
   "metadata": {},
   "outputs": [],
   "source": [
    "submissions['category'] = submissions.category.apply(lambda x: [a.split('.')[0] for a in x])\n",
    "my_submissions['category'] = my_submissions.category.apply(lambda x: [a.split('.')[0] for a in x])\n",
    "submissions['category'] = submissions.category.apply(lambda x: list(dict.fromkeys(x)))\n",
    "my_submissions['category'] = my_submissions.category.apply(lambda x: list(dict.fromkeys(x)))"
   ]
  },
  {
   "cell_type": "markdown",
   "id": "brazilian-cotton",
   "metadata": {},
   "source": [
    "### Separate categories into submission category and cross-lists"
   ]
  },
  {
   "cell_type": "code",
   "execution_count": 13,
   "id": "varied-playback",
   "metadata": {},
   "outputs": [],
   "source": [
    "submissions['cross_lists']=submissions.category.apply(lambda x: x[1:])\n",
    "submissions['category']=submissions.category.apply(lambda x: x[0])\n",
    "\n",
    "my_submissions['cross_lists']=my_submissions.category.apply(lambda x: x[1:])\n",
    "my_submissions['category']=my_submissions.category.apply(lambda x: x[0])"
   ]
  },
  {
   "cell_type": "markdown",
   "id": "tracked-shelf",
   "metadata": {},
   "source": [
    "## look at number of submissions per category per year"
   ]
  },
  {
   "cell_type": "code",
   "execution_count": 14,
   "id": "fixed-temple",
   "metadata": {},
   "outputs": [
    {
     "data": {
      "text/plain": [
       "year  category\n",
       "08    astro-ph    10127\n",
       "      cond-mat    10239\n",
       "      cs           3256\n",
       "      gr-qc        1867\n",
       "      hep-ex        923\n",
       "      hep-lat       515\n",
       "      hep-ph       4169\n",
       "      hep-th       3318\n",
       "      math        12246\n",
       "      math-ph      1256\n",
       "      nlin          760\n",
       "      nucl-ex       550\n",
       "      nucl-th      1047\n",
       "      physics      3870\n",
       "      q-bio         713\n",
       "      q-fin         285\n",
       "      quant-ph     3070\n",
       "      stat          456\n",
       "Name: id, dtype: int64"
      ]
     },
     "execution_count": 14,
     "metadata": {},
     "output_type": "execute_result"
    }
   ],
   "source": [
    "catcounts = submissions.groupby(['year', 'category'])['id'].count()\n",
    "catcounts.head(18)"
   ]
  },
  {
   "cell_type": "markdown",
   "id": "palestinian-crisis",
   "metadata": {},
   "source": [
    "#### Set a minimum number of submissions needed per year to keep a category"
   ]
  },
  {
   "cell_type": "code",
   "execution_count": 15,
   "id": "rubber-force",
   "metadata": {},
   "outputs": [],
   "source": [
    "MIN_CAT = 500"
   ]
  },
  {
   "cell_type": "code",
   "execution_count": 16,
   "id": "international-infection",
   "metadata": {},
   "outputs": [],
   "source": [
    "allcategories = list(submissions.category.unique())\n",
    "keepcategories = allcategories.copy()\n",
    "\n",
    "catcounts_cut=catcounts[catcounts > MIN_CAT]\n",
    "catsperyear=[list(catcounts_cut[yr].index) for yr in list(catcounts_cut.index.unique(level=0))]"
   ]
  },
  {
   "cell_type": "code",
   "execution_count": 17,
   "id": "composed-selection",
   "metadata": {},
   "outputs": [
    {
     "name": "stdout",
     "output_type": "stream",
     "text": [
      "categories kept: ['math', 'astro-ph', 'hep-ph', 'math-ph', 'hep-th', 'physics', 'quant-ph', 'cs', 'cond-mat', 'nlin', 'q-bio', 'nucl-th', 'hep-ex', 'gr-qc']\n",
      "categories removed: ['hep-lat', 'nucl-ex', 'stat', 'q-fin', 'eess', 'econ']\n"
     ]
    }
   ],
   "source": [
    "for i in range(len(catsperyear)):\n",
    "    keepcategories = [x for x in keepcategories if x in catsperyear[i]]\n",
    "\n",
    "removedcategories = [x for x in allcategories if x not in keepcategories]\n",
    "print(f'categories kept: {keepcategories}')\n",
    "print(f'categories removed: {removedcategories}')"
   ]
  },
  {
   "cell_type": "markdown",
   "id": "expressed-weekly",
   "metadata": {},
   "source": [
    "### only keep those categories and balance the dataset"
   ]
  },
  {
   "cell_type": "code",
   "execution_count": 18,
   "id": "floppy-compensation",
   "metadata": {},
   "outputs": [
    {
     "name": "stdout",
     "output_type": "stream",
     "text": [
      "646095 papers initially\n",
      "603407 papers after removing small categories\n"
     ]
    }
   ],
   "source": [
    "submissionscut = submissions[submissions.category.apply(lambda x: x in keepcategories)]\n",
    "print(f'{submissions.shape[0]} papers initially')\n",
    "print(f'{submissionscut.shape[0]} papers after removing small categories')"
   ]
  },
  {
   "cell_type": "code",
   "execution_count": 19,
   "id": "particular-weekend",
   "metadata": {},
   "outputs": [],
   "source": [
    "arxiv_sample = submissionscut.groupby(['year', 'category']).sample(n=MIN_CAT, random_state=RANDOM_SEED)"
   ]
  },
  {
   "cell_type": "code",
   "execution_count": 20,
   "id": "tough-locator",
   "metadata": {},
   "outputs": [
    {
     "data": {
      "image/png": "[encoded data removed]",
      "text/plain": [
       "<Figure size 1080x360 with 1 Axes>"
      ]
     },
     "metadata": {
      "needs_background": "light"
     },
     "output_type": "display_data"
    }
   ],
   "source": [
    "plt.figure(figsize=(15,5))\n",
    "sns.countplot(x=arxiv_sample.category)\n",
    "plt.xlabel('category');"
   ]
  },
  {
   "cell_type": "markdown",
   "id": "addressed-sierra",
   "metadata": {},
   "source": [
    "# CLEAN\n",
    "- remove newline characters\n",
    "- rewrite $LaTeX$ as 'equation'\n",
    "- replace all greek letters with 'letter'\n",
    "- remove special characters"
   ]
  },
  {
   "cell_type": "code",
   "execution_count": 21,
   "id": "exclusive-trinidad",
   "metadata": {},
   "outputs": [],
   "source": [
    "arxiv_sample['abstract'] = arxiv_sample.abstract.str.replace('\\n', ' ') \n",
    "arxiv_sample['abstract'] = arxiv_sample.abstract.str.replace(r'\\$(.+?)\\$', 'equation', regex=True)\n",
    "greek = [r'\\\\alpah', r'\\\\beta', r'\\\\gamma', r'\\\\delta', r'\\\\epsilon', r'\\\\zeta', r'\\\\theta', r'\\\\eta', r'\\\\iota', r'\\\\kappa', r'\\\\lambda', r'\\\\mu', r'\\\\nu', r'\\\\xi', r'\\\\omicron', r'\\\\pi', r'\\\\rho', r'\\\\sigma', r'\\\\tau', r'\\\\upsilon', r'\\\\phi', r'\\\\chi', r'\\\\psi', r'\\\\omega']\n",
    "Greek = [r'\\\\Alpah', r'\\\\Beta', r'\\\\Gamma', r'\\\\Delta', r'\\\\Epsilon', r'\\\\Zeta', r'\\\\Theta', r'\\\\Eta', r'\\\\Iota', r'\\\\Kappa', r'\\\\Lambda', r'\\\\Mu', r'\\\\Nu', r'\\\\Xi', r'\\\\Omicron', r'\\\\Pi', r'\\\\Rho', r'\\\\Sigma', r'\\\\Tau', r'\\\\Upsilon', r'\\\\Phi', r'\\\\Chi', r'\\\\Psi', r'\\\\Omega']\n",
    "for letter in greek + Greek:\n",
    "    arxiv_sample['abstract'] = arxiv_sample.abstract.str.replace(letter, 'letter', regex=True)\n",
    "arxiv_sample['abstract'] = arxiv_sample.abstract.str.replace(r'[\\|\\{\\}]', '', regex=True)\n",
    "arxiv_sample['abstract'] = arxiv_sample.abstract.str.replace(r'\\`\\`', r\"'\", regex=True)\n",
    "arxiv_sample['abstract'] = arxiv_sample.abstract.str.replace(r'\\'\\'', r\"'\", regex=True)\n",
    "arxiv_sample['abstract'] = arxiv_sample.abstract.str.replace(r'[\\^\\_\\+]', '', regex=True)\n",
    "arxiv_sample['abstract'] = arxiv_sample.abstract.str.replace(r'\\\\\"o', 'o', regex=True)\n",
    "arxiv_sample['abstract'] = arxiv_sample.abstract.str.replace(r'\\\\\"a', 'a', regex=True)\n",
    "arxiv_sample['abstract'] = arxiv_sample.abstract.str.replace(r'\\\\\"u', 'u', regex=True)\n",
    "arxiv_sample['abstract'] = arxiv_sample.abstract.str.replace(r'\\\\pm', '', regex=True)\n",
    "arxiv_sample['abstract'] = arxiv_sample.abstract.str.replace(r'-->', 'to', regex=True)\n",
    "arxiv_sample['abstract'] = arxiv_sample['abstract'].str[2:-1]"
   ]
  },
  {
   "cell_type": "code",
   "execution_count": 22,
   "id": "palestinian-turner",
   "metadata": {},
   "outputs": [],
   "source": [
    "my_submissions['abstract'] = my_submissions.abstract.str.replace('\\n', ' ') \n",
    "my_submissions['abstract'] = my_submissions.abstract.str.replace(r'\\$(.+?)\\$', 'equation', regex=True)\n",
    "greek = [r'\\\\alpah', r'\\\\beta', r'\\\\gamma', r'\\\\delta', r'\\\\epsilon', r'\\\\zeta', r'\\\\theta', r'\\\\eta', r'\\\\iota', r'\\\\kappa', r'\\\\lambda', r'\\\\mu', r'\\\\nu', r'\\\\xi', r'\\\\omicron', r'\\\\pi', r'\\\\rho', r'\\\\sigma', r'\\\\tau', r'\\\\upsilon', r'\\\\phi', r'\\\\chi', r'\\\\psi', r'\\\\omega']\n",
    "Greek = [r'\\\\Alpah', r'\\\\Beta', r'\\\\Gamma', r'\\\\Delta', r'\\\\Epsilon', r'\\\\Zeta', r'\\\\Theta', r'\\\\Eta', r'\\\\Iota', r'\\\\Kappa', r'\\\\Lambda', r'\\\\Mu', r'\\\\Nu', r'\\\\Xi', r'\\\\Omicron', r'\\\\Pi', r'\\\\Rho', r'\\\\Sigma', r'\\\\Tau', r'\\\\Upsilon', r'\\\\Phi', r'\\\\Chi', r'\\\\Psi', r'\\\\Omega']\n",
    "for letter in greek + Greek:\n",
    "    my_submissions['abstract'] = my_submissions.abstract.str.replace(letter, 'letter', regex=True)\n",
    "my_submissions['abstract'] = my_submissions.abstract.str.replace(r'[\\|\\{\\}]', '', regex=True)\n",
    "my_submissions['abstract'] = my_submissions.abstract.str.replace(r'\\`\\`', r\"'\", regex=True)\n",
    "my_submissions['abstract'] = my_submissions.abstract.str.replace(r'\\'\\'', r\"'\", regex=True)\n",
    "my_submissions['abstract'] = my_submissions.abstract.str.replace(r'[\\^\\_\\+]', '', regex=True)\n",
    "my_submissions['abstract'] = my_submissions.abstract.str.replace(r'\\\\\"o', 'o', regex=True)\n",
    "my_submissions['abstract'] = my_submissions.abstract.str.replace(r'\\\\\"a', 'a', regex=True)\n",
    "my_submissions['abstract'] = my_submissions.abstract.str.replace(r'\\\\\"u', 'u', regex=True)\n",
    "my_submissions['abstract'] = my_submissions.abstract.str.replace(r'\\\\pm', '', regex=True)\n",
    "my_submissions['abstract'] = my_submissions.abstract.str.replace(r'-->', 'to', regex=True)\n",
    "my_submissions['abstract'] = my_submissions['abstract'].str[2:-1]"
   ]
  },
  {
   "cell_type": "markdown",
   "id": "weird-stroke",
   "metadata": {},
   "source": [
    "# Make training sets"
   ]
  },
  {
   "cell_type": "markdown",
   "id": "demanding-jumping",
   "metadata": {},
   "source": [
    "### Add an int to represent a category"
   ]
  },
  {
   "cell_type": "code",
   "execution_count": 23,
   "id": "instructional-tooth",
   "metadata": {},
   "outputs": [],
   "source": [
    "def cat_to_int_label(cat):\n",
    " for i in range(len(keepcategories)):\n",
    "    if cat == keepcategories[i]:\n",
    "      return i"
   ]
  },
  {
   "cell_type": "code",
   "execution_count": 24,
   "id": "close-communist",
   "metadata": {},
   "outputs": [],
   "source": [
    "arxiv_sample['cat_int'] = arxiv_sample.category.apply(cat_to_int_label)\n",
    "my_submissions['cat_int'] = my_submissions.category.apply(cat_to_int_label)"
   ]
  },
  {
   "cell_type": "code",
   "execution_count": 25,
   "id": "tested-graph",
   "metadata": {},
   "outputs": [],
   "source": [
    "arxiv_080910 = arxiv_sample[arxiv_sample.year.apply(lambda x: x in ['08', '09' ,'10'])]\n",
    "arxiv_181920 = arxiv_sample[arxiv_sample.year.apply(lambda x: x in ['18', '19', '20'])]"
   ]
  },
  {
   "cell_type": "code",
   "execution_count": 30,
   "id": "sized-century",
   "metadata": {},
   "outputs": [],
   "source": [
    "arxiv_080910_single_cat = arxiv_080910[arxiv_080910.cross_lists.apply(lambda x: len(x) == 0)]\n",
    "arxiv_181920_single_cat = arxiv_181920[arxiv_181920.cross_lists.apply(lambda x: len(x) == 0)]"
   ]
  },
  {
   "cell_type": "code",
   "execution_count": 33,
   "id": "authentic-custom",
   "metadata": {},
   "outputs": [],
   "source": [
    "arxiv_080910.to_csv('arxiv_080910.csv', index=False, header=True)\n",
    "arxiv_181920.to_csv('arxiv_181920.csv', index=False, header=True)\n",
    "arxiv_080910_single_cat.to_csv('arxiv_080910_sincat.csv', index=False, header=True)\n",
    "arxiv_181920_single_cat.to_csv('arxiv_181920_sincat.csv', index=False, header=True)\n",
    "my_submissions.to_csv('my_papers.csv', index=False, header=True)"
   ]
  },
  {
   "cell_type": "code",
   "execution_count": 31,
   "id": "transsexual-groove",
   "metadata": {},
   "outputs": [
    {
     "data": {
      "text/plain": [
       "id                                                     0812.2496\n",
       "category                                                astro-ph\n",
       "abstract       The disk instability mechanism for giant plane...\n",
       "year                                                          08\n",
       "cross_lists                                                   []\n",
       "cat_int                                                        1\n",
       "Name: 56046, dtype: object"
      ]
     },
     "execution_count": 31,
     "metadata": {},
     "output_type": "execute_result"
    }
   ],
   "source": [
    "arxiv_080910_single_cat.iloc[0]"
   ]
  },
  {
   "cell_type": "code",
   "execution_count": null,
   "id": "international-checklist",
   "metadata": {},
   "outputs": [],
   "source": []
  }
 ],
 "metadata": {
  "kernelspec": {
   "display_name": "Python 3",
   "language": "python",
   "name": "python3"
  },
  "language_info": {
   "codemirror_mode": {
    "name": "ipython",
    "version": 3
   },
   "file_extension": ".py",
   "mimetype": "text/x-python",
   "name": "python",
   "nbconvert_exporter": "python",
   "pygments_lexer": "ipython3",
   "version": "3.9.0"
  }
 },
 "nbformat": 4,
 "nbformat_minor": 5
}
